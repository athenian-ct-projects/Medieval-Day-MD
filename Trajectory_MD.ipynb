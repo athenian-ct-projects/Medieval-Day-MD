{
  "nbformat": 4,
  "nbformat_minor": 0,
  "metadata": {
    "colab": {
      "name": "Trajectory MD",
      "provenance": [],
      "collapsed_sections": [],
      "include_colab_link": true
    },
    "kernelspec": {
      "name": "python3",
      "display_name": "Python 3"
    }
  },
  "cells": [
    {
      "cell_type": "markdown",
      "metadata": {
        "id": "view-in-github",
        "colab_type": "text"
      },
      "source": [
        "<a href=\"https://colab.research.google.com/github/athenian-ct-projects/Medieval-Day-MD/blob/master/Trajectory_MD.ipynb\" target=\"_parent\"><img src=\"https://colab.research.google.com/assets/colab-badge.svg\" alt=\"Open In Colab\"/></a>"
      ]
    },
    {
      "cell_type": "markdown",
      "metadata": {
        "id": "Lo3TiqpD7aYP",
        "colab_type": "text"
      },
      "source": [
        "Medieval focus daytrajectory calculator\n",
        "\n",
        "Mark D '23 "
      ]
    },
    {
      "cell_type": "code",
      "metadata": {
        "id": "9lDVtkfMViXf",
        "colab_type": "code",
        "outputId": "9582833d-5524-4e06-c669-e1ee12be5900",
        "colab": {
          "base_uri": "https://localhost:8080/",
          "height": 170
        }
      },
      "source": [
        "def grading_stem_comp ():\n",
        "  Distance = []\n",
        "\n",
        "  for i in range (3):\n",
        "    Distance.append (float(input(\"Enter how far projectile landed from target for each of the three test you will conduct (you will be promted three times)\")))\n",
        "  return tuple(Distance)\n",
        "  \n",
        "import math\n",
        "\n",
        "# Declaring the value of gravity \n",
        "gravity = 9.81\n",
        "\n",
        "# Declaring the values of angle, velocity, height and the distances to zero\n",
        "angle = 0\n",
        "velocity = 0\n",
        "height = 0\n",
        "Distance1 =0\n",
        "Distance2 =0\n",
        "Distance3 =0\n",
        "# The formula i used requires that the height, angle and velocity values are greater than zero\n",
        "# The program will continue asking for the required value if the one provided is equal zero\n",
        "\n",
        "while angle <= 0:\n",
        "  angle = int(input(\"Enter a release angle (greater than zero) : \"))\n",
        "\n",
        "while velocity <= 0:\n",
        "  velocity = int(input(\"Enter the release velocity (greater than zero) : \"))\n",
        "\n",
        "while height <= 0:\n",
        "  height = int(input(\"Enter the release height (greater than zero) : \"))\n",
        "\n",
        "\n",
        "# Calculating the Range or projectile distance value using formula shown in https://youtu.be/UkLZKxxTFaA \n",
        "# I needed to include the function of math.radians to convert degrees to radians, because thats what is accepted in Python.\n",
        "distance = ( velocity*math.cos(math.radians(angle)) * ( velocity*math.sin(math.radians(angle)) + math.sqrt(velocity*math.sin(math.radians(angle)))**2 ) + 2*gravity*height ) / gravity\n",
        "\n",
        "# Converting the distance from meters to feet and rounding the final number.\n",
        "print ( \" To ensure a direct hit move your catapult:\", round(distance*3.281), \"ft away from your target\") \n",
        "\n",
        "# students now test their catapult- against a target using the trajectory calculator to hone in on there targets after each test input the distance the projectile landed from there target to get a pass fail grade\n",
        "\n",
        "results=grading_stem_comp()\n",
        "g=results[0]\n",
        "h=results[1]\n",
        "f=results[2]\n",
        "\n",
        "sum= g+h+f/3\n",
        "print (sum,\" ft\")\n",
        "\n",
        "if sum < 4:\n",
        " print (\"You passed\")\n",
        "\n",
        "else:\n",
        "  print (\"You failed\")\n",
        "\n",
        "\n",
        "# reference important sites that I used \n",
        "\n",
        "# https://docs.python.org/3/library/ https://youtu.be/UkLZKxxTFaA \n",
        "#https://www.omnicalculator.com/physics/projectile-motion#:~:targetText=Write%20down%20the%20equations%20of%20motion.&targetText=Horizontal%20distance%20traveled%20can%20be,g%20is%20the%20gravity%20acceleration.\n",
        "#https://www.tutorialspoint.com/python3/python_lists.htm\n",
        "#https://youtu.be/UkLZKxxTFaA\n",
        "\n",
        "\n",
        "\n",
        "\n"
      ],
      "execution_count": 0,
      "outputs": [
        {
          "output_type": "stream",
          "text": [
            "Enter a release angle (greater than zero) : 1\n",
            "Enter the release velocity (greater than zero) : 1\n",
            "Enter the release height (greater than zero) : 1\n",
            " To ensure a direct hit move your catapult: 7 ft away from your target\n",
            "Enter how far projectile landed from target for each of the three test you will conduct (you will be promted three times)1\n",
            "Enter how far projectile landed from target for each of the three test you will conduct (you will be promted three times)1\n",
            "Enter how far projectile landed from target for each of the three test you will conduct (you will be promted three times)1\n",
            "2.3333333333333335  ft\n",
            "You passed\n"
          ],
          "name": "stdout"
        }
      ]
    }
  ]
}